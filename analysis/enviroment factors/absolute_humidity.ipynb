{
 "cells": [
  {
   "cell_type": "markdown",
   "metadata": {},
   "source": [
    "# The role of absolute humidity on transmission rates of the COVID-19 outbreak\n",
    "### paper: Luo, W., Majumder, M.S., Liu, D., Poirier, C., Mandl, K.D., Lipsitch, M. and Santillana, M., 2020. The role of absolute humidity on transmission rates of the COVID-19 outbreak. medRxiv.\n",
    "### data source:  https://github.com/midas-network/COVID-19/blob/master/data/data_from_papers/dataset_luo-et-al_202002/R0_absolute_humidity_Luo_et_al.2020.csv\n",
    "### code is implemented by the NSF Spatiotemporal Innovation Center according to the paper"
   ]
  },
  {
   "cell_type": "code",
   "execution_count": 1,
   "metadata": {},
   "outputs": [
    {
     "data": {
      "text/html": [
       "<div>\n",
       "<style scoped>\n",
       "    .dataframe tbody tr th:only-of-type {\n",
       "        vertical-align: middle;\n",
       "    }\n",
       "\n",
       "    .dataframe tbody tr th {\n",
       "        vertical-align: top;\n",
       "    }\n",
       "\n",
       "    .dataframe thead th {\n",
       "        text-align: right;\n",
       "    }\n",
       "</style>\n",
       "<table border=\"1\" class=\"dataframe\">\n",
       "  <thead>\n",
       "    <tr style=\"text-align: right;\">\n",
       "      <th></th>\n",
       "      <th>Province</th>\n",
       "      <th>R0_mean</th>\n",
       "      <th>Absolute_Humidity</th>\n",
       "      <th>Temperature_Mean</th>\n",
       "      <th>Cumulative_Cases</th>\n",
       "      <th>R0_confidence_interval_Upper</th>\n",
       "      <th>R0_confidence_interval_Lower</th>\n",
       "      <th>Country.Region</th>\n",
       "      <th>PopulationDensity_2014</th>\n",
       "      <th>Lat</th>\n",
       "      <th>Long</th>\n",
       "      <th>Capital</th>\n",
       "    </tr>\n",
       "  </thead>\n",
       "  <tbody>\n",
       "    <tr>\n",
       "      <th>0</th>\n",
       "      <td>Heilongjiang</td>\n",
       "      <td>3.253333</td>\n",
       "      <td>1.496135</td>\n",
       "      <td>-15</td>\n",
       "      <td>331</td>\n",
       "      <td>4.58</td>\n",
       "      <td>1.36</td>\n",
       "      <td>Mainland China</td>\n",
       "      <td>81.0</td>\n",
       "      <td>47.86200</td>\n",
       "      <td>127.7622</td>\n",
       "      <td>Harbin</td>\n",
       "    </tr>\n",
       "    <tr>\n",
       "      <th>1</th>\n",
       "      <td>Jilin</td>\n",
       "      <td>3.177333</td>\n",
       "      <td>1.691746</td>\n",
       "      <td>-13</td>\n",
       "      <td>80</td>\n",
       "      <td>5.00</td>\n",
       "      <td>1.15</td>\n",
       "      <td>Mainland China</td>\n",
       "      <td>147.0</td>\n",
       "      <td>43.66657</td>\n",
       "      <td>126.1917</td>\n",
       "      <td>Changchun</td>\n",
       "    </tr>\n",
       "    <tr>\n",
       "      <th>2</th>\n",
       "      <td>Guizhou</td>\n",
       "      <td>2.612667</td>\n",
       "      <td>7.227437</td>\n",
       "      <td>9</td>\n",
       "      <td>109</td>\n",
       "      <td>6.33</td>\n",
       "      <td>0.91</td>\n",
       "      <td>Mainland China</td>\n",
       "      <td>199.0</td>\n",
       "      <td>26.81536</td>\n",
       "      <td>106.8748</td>\n",
       "      <td>Guiyang</td>\n",
       "    </tr>\n",
       "    <tr>\n",
       "      <th>3</th>\n",
       "      <td>South Korea</td>\n",
       "      <td>2.580000</td>\n",
       "      <td>3.271413</td>\n",
       "      <td>3</td>\n",
       "      <td>18</td>\n",
       "      <td>6.00</td>\n",
       "      <td>0.91</td>\n",
       "      <td>NaN</td>\n",
       "      <td>NaN</td>\n",
       "      <td>37.56650</td>\n",
       "      <td>126.9780</td>\n",
       "      <td>Seoul</td>\n",
       "    </tr>\n",
       "    <tr>\n",
       "      <th>4</th>\n",
       "      <td>Hubei</td>\n",
       "      <td>2.493333</td>\n",
       "      <td>5.733320</td>\n",
       "      <td>7</td>\n",
       "      <td>29631</td>\n",
       "      <td>3.39</td>\n",
       "      <td>1.52</td>\n",
       "      <td>Mainland China</td>\n",
       "      <td>313.0</td>\n",
       "      <td>30.97564</td>\n",
       "      <td>112.2707</td>\n",
       "      <td>Wuhan</td>\n",
       "    </tr>\n",
       "  </tbody>\n",
       "</table>\n",
       "</div>"
      ],
      "text/plain": [
       "       Province   R0_mean  Absolute_Humidity  Temperature_Mean  \\\n",
       "0  Heilongjiang  3.253333           1.496135               -15   \n",
       "1         Jilin  3.177333           1.691746               -13   \n",
       "2       Guizhou  2.612667           7.227437                 9   \n",
       "3   South Korea  2.580000           3.271413                 3   \n",
       "4         Hubei  2.493333           5.733320                 7   \n",
       "\n",
       "   Cumulative_Cases  R0_confidence_interval_Upper  \\\n",
       "0               331                          4.58   \n",
       "1                80                          5.00   \n",
       "2               109                          6.33   \n",
       "3                18                          6.00   \n",
       "4             29631                          3.39   \n",
       "\n",
       "   R0_confidence_interval_Lower  Country.Region  PopulationDensity_2014  \\\n",
       "0                          1.36  Mainland China                    81.0   \n",
       "1                          1.15  Mainland China                   147.0   \n",
       "2                          0.91  Mainland China                   199.0   \n",
       "3                          0.91             NaN                     NaN   \n",
       "4                          1.52  Mainland China                   313.0   \n",
       "\n",
       "        Lat      Long    Capital  \n",
       "0  47.86200  127.7622     Harbin  \n",
       "1  43.66657  126.1917  Changchun  \n",
       "2  26.81536  106.8748    Guiyang  \n",
       "3  37.56650  126.9780      Seoul  \n",
       "4  30.97564  112.2707      Wuhan  "
      ]
     },
     "execution_count": 1,
     "metadata": {},
     "output_type": "execute_result"
    }
   ],
   "source": [
    "import pandas as pd\n",
    "import numpy as np\n",
    "import matplotlib.pyplot as plt\n",
    "\n",
    "data = pd.read_csv(r'C:\\Users\\44931\\Desktop\\LUO.txt')  #replace it with local file path\n",
    "data.head()"
   ]
  },
  {
   "cell_type": "code",
   "execution_count": 2,
   "metadata": {},
   "outputs": [
    {
     "data": {
      "image/png": "[encoded data removed]",
      "text/plain": [
       "<Figure size 432x288 with 1 Axes>"
      ]
     },
     "metadata": {
      "needs_background": "light"
     },
     "output_type": "display_data"
    }
   ],
   "source": [
    "x = np.array(data.Absolute_Humidity[:-1])\n",
    "y = np.array(data.R0_mean[:-1])\n",
    "fig,ax=plt.subplots()\n",
    "ax.scatter(x,y,c='r')\n",
    "plt.xlabel('Absolute_Humidity')\n",
    "plt.ylabel('R0_mean')\n",
    "anno = np.array(data.Province[:-1])\n",
    "for i in range(len(x)):\n",
    "    ax.annotate(anno[i],(x[i],y[i]))"
   ]
  },
  {
   "cell_type": "code",
   "execution_count": 3,
   "metadata": {},
   "outputs": [
    {
     "name": "stderr",
     "output_type": "stream",
     "text": [
      "D:\\Anaconda\\lib\\site-packages\\numpy\\core\\fromnumeric.py:2495: FutureWarning: Method .ptp is deprecated and will be removed in a future version. Use numpy.ptp instead.\n",
      "  return ptp(axis=axis, out=out, **kwargs)\n"
     ]
    },
    {
     "data": {
      "text/html": [
       "<table class=\"simpletable\">\n",
       "<caption>OLS Regression Results</caption>\n",
       "<tr>\n",
       "  <th>Dep. Variable:</th>         <td>R0_mean</td>     <th>  R-squared:         </th> <td>   0.260</td>\n",
       "</tr>\n",
       "<tr>\n",
       "  <th>Model:</th>                   <td>OLS</td>       <th>  Adj. R-squared:    </th> <td>   0.215</td>\n",
       "</tr>\n",
       "<tr>\n",
       "  <th>Method:</th>             <td>Least Squares</td>  <th>  F-statistic:       </th> <td>   5.795</td>\n",
       "</tr>\n",
       "<tr>\n",
       "  <th>Date:</th>             <td>Mon, 30 Mar 2020</td> <th>  Prob (F-statistic):</th>  <td>0.00697</td>\n",
       "</tr>\n",
       "<tr>\n",
       "  <th>Time:</th>                 <td>23:57:34</td>     <th>  Log-Likelihood:    </th> <td> -7.3253</td>\n",
       "</tr>\n",
       "<tr>\n",
       "  <th>No. Observations:</th>      <td>    36</td>      <th>  AIC:               </th> <td>   20.65</td>\n",
       "</tr>\n",
       "<tr>\n",
       "  <th>Df Residuals:</th>          <td>    33</td>      <th>  BIC:               </th> <td>   25.40</td>\n",
       "</tr>\n",
       "<tr>\n",
       "  <th>Df Model:</th>              <td>     2</td>      <th>                     </th>     <td> </td>   \n",
       "</tr>\n",
       "<tr>\n",
       "  <th>Covariance Type:</th>      <td>nonrobust</td>    <th>                     </th>     <td> </td>   \n",
       "</tr>\n",
       "</table>\n",
       "<table class=\"simpletable\">\n",
       "<tr>\n",
       "          <td></td>             <th>coef</th>     <th>std err</th>      <th>t</th>      <th>P>|t|</th>  <th>[0.025</th>    <th>0.975]</th>  \n",
       "</tr>\n",
       "<tr>\n",
       "  <th>const</th>             <td>    0.1887</td> <td>    0.116</td> <td>    1.621</td> <td> 0.115</td> <td>   -0.048</td> <td>    0.425</td>\n",
       "</tr>\n",
       "<tr>\n",
       "  <th>Absolute_Humidity</th> <td>    0.0690</td> <td>    0.027</td> <td>    2.538</td> <td> 0.016</td> <td>    0.014</td> <td>    0.124</td>\n",
       "</tr>\n",
       "<tr>\n",
       "  <th>Temperature_Mean</th>  <td>   -0.0380</td> <td>    0.012</td> <td>   -3.249</td> <td> 0.003</td> <td>   -0.062</td> <td>   -0.014</td>\n",
       "</tr>\n",
       "</table>\n",
       "<table class=\"simpletable\">\n",
       "<tr>\n",
       "  <th>Omnibus:</th>       <td> 0.768</td> <th>  Durbin-Watson:     </th> <td>   0.493</td>\n",
       "</tr>\n",
       "<tr>\n",
       "  <th>Prob(Omnibus):</th> <td> 0.681</td> <th>  Jarque-Bera (JB):  </th> <td>   0.420</td>\n",
       "</tr>\n",
       "<tr>\n",
       "  <th>Skew:</th>          <td> 0.265</td> <th>  Prob(JB):          </th> <td>   0.811</td>\n",
       "</tr>\n",
       "<tr>\n",
       "  <th>Kurtosis:</th>      <td> 2.997</td> <th>  Cond. No.          </th> <td>    33.8</td>\n",
       "</tr>\n",
       "</table><br/><br/>Warnings:<br/>[1] Standard Errors assume that the covariance matrix of the errors is correctly specified."
      ],
      "text/plain": [
       "<class 'statsmodels.iolib.summary.Summary'>\n",
       "\"\"\"\n",
       "                            OLS Regression Results                            \n",
       "==============================================================================\n",
       "Dep. Variable:                R0_mean   R-squared:                       0.260\n",
       "Model:                            OLS   Adj. R-squared:                  0.215\n",
       "Method:                 Least Squares   F-statistic:                     5.795\n",
       "Date:                Mon, 30 Mar 2020   Prob (F-statistic):            0.00697\n",
       "Time:                        23:57:34   Log-Likelihood:                -7.3253\n",
       "No. Observations:                  36   AIC:                             20.65\n",
       "Df Residuals:                      33   BIC:                             25.40\n",
       "Df Model:                           2                                         \n",
       "Covariance Type:            nonrobust                                         \n",
       "=====================================================================================\n",
       "                        coef    std err          t      P>|t|      [0.025      0.975]\n",
       "-------------------------------------------------------------------------------------\n",
       "const                 0.1887      0.116      1.621      0.115      -0.048       0.425\n",
       "Absolute_Humidity     0.0690      0.027      2.538      0.016       0.014       0.124\n",
       "Temperature_Mean     -0.0380      0.012     -3.249      0.003      -0.062      -0.014\n",
       "==============================================================================\n",
       "Omnibus:                        0.768   Durbin-Watson:                   0.493\n",
       "Prob(Omnibus):                  0.681   Jarque-Bera (JB):                0.420\n",
       "Skew:                           0.265   Prob(JB):                        0.811\n",
       "Kurtosis:                       2.997   Cond. No.                         33.8\n",
       "==============================================================================\n",
       "\n",
       "Warnings:\n",
       "[1] Standard Errors assume that the covariance matrix of the errors is correctly specified.\n",
       "\"\"\""
      ]
     },
     "execution_count": 3,
     "metadata": {},
     "output_type": "execute_result"
    }
   ],
   "source": [
    "import statsmodels.api as sm\n",
    "y = np.log(data.R0_mean[:-1])  #Delete Tibet and use logarithm form\n",
    "X = data[['Absolute_Humidity', 'Temperature_Mean']][:-1]\n",
    "X = sm.add_constant(X) ## add intercept\n",
    "model = sm.OLS(y, X).fit() \n",
    "model.summary()"
   ]
  },
  {
   "cell_type": "markdown",
   "metadata": {},
   "source": [
    "# Loess Regression (Locally Weighted Regression)"
   ]
  },
  {
   "cell_type": "code",
   "execution_count": 5,
   "metadata": {},
   "outputs": [
    {
     "data": {
      "image/png": "[encoded data removed]",
      "text/plain": [
       "<Figure size 432x288 with 1 Axes>"
      ]
     },
     "metadata": {
      "needs_background": "light"
     },
     "output_type": "display_data"
    }
   ],
   "source": [
    "lowess = sm.nonparametric.lowess\n",
    "x = np.array(data.Absolute_Humidity[:-1])\n",
    "y = np.array(data.R0_mean[:-1])\n",
    "z = lowess(y, x)\n",
    "plt.scatter(x,y)\n",
    "plt.plot(z[:,0],z[:,1],'r')\n",
    "plt.xlabel('Absolute_Humidity')\n",
    "plt.ylabel('R0_mean')\n",
    "plt.show()"
   ]
  },
  {
   "cell_type": "markdown",
   "metadata": {},
   "source": [
    "# Exponential Fit"
   ]
  },
  {
   "cell_type": "code",
   "execution_count": 6,
   "metadata": {},
   "outputs": [
    {
     "name": "stdout",
     "output_type": "stream",
     "text": [
      "[404.64568221  -3.51677631   1.40686777]\n"
     ]
    },
    {
     "data": {
      "image/png": "[encoded data removed]",
      "text/plain": [
       "<Figure size 432x288 with 1 Axes>"
      ]
     },
     "metadata": {
      "needs_background": "light"
     },
     "output_type": "display_data"
    }
   ],
   "source": [
    "from scipy.optimize import curve_fit\n",
    "\n",
    "#the function of exponentialfit\n",
    "def func(x, a, b, c):\n",
    "    return a * np.exp(b * x) + c\n",
    "\n",
    "x = np.array(data.Absolute_Humidity[:-1])\n",
    "y = np.array(data.R0_mean[:-1])\n",
    "popt, pcov = curve_fit(func, x, y)\n",
    "pltx = np.arange(1.496135,21.497618,0.5)\n",
    "plty = [func(i, popt[0],popt[1],popt[2]) for i in pltx]\n",
    "plt.scatter(x,y)\n",
    "plt.xlabel('Absolute_Humidity')\n",
    "plt.ylabel('R0_mean')\n",
    "plt.plot(pltx,plty,'r')\n",
    "print(popt)"
   ]
  }
 ],
 "metadata": {
  "kernelspec": {
   "display_name": "Python 3",
   "language": "python",
   "name": "python3"
  },
  "language_info": {
   "codemirror_mode": {
    "name": "ipython",
    "version": 3
   },
   "file_extension": ".py",
   "mimetype": "text/x-python",
   "name": "python",
   "nbconvert_exporter": "python",
   "pygments_lexer": "ipython3",
   "version": "3.6.9"
  }
 },
 "nbformat": 4,
 "nbformat_minor": 2
}
